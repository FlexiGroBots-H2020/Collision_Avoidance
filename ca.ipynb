{
 "cells": [
  {
   "cell_type": "code",
   "execution_count": 8,
   "metadata": {},
   "outputs": [],
   "source": [
    "import pandas as pd\n",
    "import numpy as np\n",
    "import math\n",
    "import time\n",
    "from geographiclib.geodesic import Geodesic\n",
    "from haversine import haversine, Unit\n",
    "from shapely.geometry import LineString, Point,MultiPoint\n",
    "from tabulate import tabulate\n",
    "from datetimerange import DateTimeRange"
   ]
  },
  {
   "cell_type": "code",
   "execution_count": 9,
   "metadata": {},
   "outputs": [],
   "source": [
    "##  Defines distances from object, according to heading direction, defining safe rectangle [meters]\n",
    "safe_dst = {\"Tractor\":[5,5,5,20], \"Cow\": [5,5,5,5]}\n",
    "\n",
    "origin = (65,14)\n",
    "\n",
    "vertical_line_threshold = 1000000\n",
    "\n",
    "def line_eq_from_points (p1: Point, p2: Point):       ## returns tuple (m,q) for equation y = mx +q, if line is vertical returns (inf, x0) for equation x = x0\n",
    "    if abs(p1.x-p2.x) < vertical_line_threshold:    ## check if line is not vertical\n",
    "        m = (p1.y-p2.y)/(p1.x-p2.x)\n",
    "        q = (p1.x*p2.y-p2.x*p1.y)/(p1.x-p2.x)\n",
    "    else:\n",
    "        m = float('inf')\n",
    "        q = p1.x\n",
    "    return line(m,q)\n",
    "\n",
    "class line:     ## line object with equation y = mx + q\n",
    "    def __init__(self,m,q):\n",
    "        self.m = m\n",
    "        self.q = q\n",
    "    def __str__(self):\n",
    "        return \"Line with equation y = %fx + %f\" % (self.m, self.q)\n",
    "\n",
    "def intersection_between_lines (l1: line, l2: line):\n",
    "    if l1.m != float('inf') and l2.m != float('inf'):\n",
    "        a = np.array([[-l1.m,1],[-l2.m,1]])\n",
    "        b = np.array([l1.q,l2.q])\n",
    "        x = np.linalg.solve(a,b)\n",
    "        return Point(x[0],x[1])\n",
    "    elif l1.m == float('inf') and l2.m != float('inf'):\n",
    "        return Point(l1.q, (l2.m*l1.q + l2.q))\n",
    "    elif l2.m == float('inf') and l1.m != float('inf'):\n",
    "        return Point(l2.q, (l1.m*l2.q + l1.q))\n",
    "    else:\n",
    "        return Point(float('inf'),float('inf'))\n",
    "\n",
    "def cartesian_rotation(p: Point,angle):\n",
    "    x_rotated, y_rotated = (p.x*math.cos(angle)-p.y*math.sin(angle),p.y*math.cos(angle)+p.x*math.sin(angle))\n",
    "    return Point(x_rotated, y_rotated)\n",
    "\n",
    "def heading_between_two_points(p1: Point, p2: Point):  ## p1 Current Point, p2 Previous Point\n",
    "    if (p1.x - p2.x) != 0:\n",
    "            h = math.atan((p1.y - p2.y)/(p1.x - p2.x))\n",
    "    elif (p1.y - p2.y) > 0:\n",
    "        h = 0\n",
    "    else:\n",
    "        h = math.pi/2\n",
    "    return h\n",
    "\n",
    "def get_relative_coordinates(origin_coordinates, coordinates):\n",
    "    d = haversine(origin_coordinates,(coordinates), unit=Unit.METERS)\n",
    "    b = Geodesic.WGS84.Inverse(origin_coordinates[0],origin_coordinates[1],coordinates[0],coordinates[0])['azi1']\n",
    "    x_rel = d*math.sin(b)\n",
    "    y_rel = d*math.cos(b)\n",
    "    return Point(x_rel, y_rel)\n",
    "\n",
    "class moving_object:\n",
    "    def __init__(self, lat, lon, id, type):\n",
    "        self.lat = lat\n",
    "        self.lon = lon\n",
    "        self.timestamp = time.time()\n",
    "        self.type = type\n",
    "        self.id = id\n",
    "        self.xy = get_relative_coordinates(origin, (self.lat, self.lon))\n",
    "        self.vertices = [Point(0,0),Point(0,0),Point(0,0),Point(0,0)]\n",
    "        self.counter = 0\n",
    "        self.xy = Point(0,0)\n",
    "        pass\n",
    "\n",
    "    def update_position(self,n_lat, n_lon):\n",
    "        self.prev_lat = self.lat\n",
    "        self.lat = n_lat\n",
    "        self.prev_lon = self.lon\n",
    "        self.lon = n_lon\n",
    "        self.prev_timestamp = self.timestamp\n",
    "        self.timestamp = time.time()     ## timestamps seconds\n",
    "        distance = haversine((self.lat, self.lon),(self.prev_lat,self.prev_lon), unit=Unit.METERS)\n",
    "        self.speed = distance / ((self.timestamp - self.prev_timestamp))        ##speed in m/s\n",
    "        self.xy_prev = self.xy\n",
    "        self.xy = get_relative_coordinates(origin, (self.lat, self.lon))\n",
    "        self.heading = heading_between_two_points(self.xy, self.xy_prev)\n",
    "        self.counter +=1\n",
    "        pass\n",
    "\n",
    "    def update_position_local(self,t_x, t_y):\n",
    "        self.xy_prev = self.xy\n",
    "        self.xy = Point(t_x, t_y)\n",
    "        self.prev_timestamp = self.timestamp\n",
    "        self.timestamp = time.time()     ## timestamps seconds\n",
    "        distance = self.xy.distance(self.xy_prev)\n",
    "        self.speed = distance / ((self.timestamp - self.prev_timestamp))        ##speed in m/s\n",
    "        self.heading = heading_between_two_points(self.xy, self.xy_prev)\n",
    "        self.counter +=1\n",
    "        pass\n",
    "\n",
    "    def update_safety_rectangle(self):\n",
    "        vert = [Point(0,0),Point(0,0),Point(0,0),Point(0,0)]\n",
    "        vert[0] = cartesian_rotation(Point(-safe_dst[self.type][1],safe_dst[self.type][0]),self.heading)\n",
    "        vert[1] = cartesian_rotation(Point(-safe_dst[self.type][1],-safe_dst[self.type][2]),self.heading)\n",
    "        vert[2] = cartesian_rotation(Point(safe_dst[self.type][3],-safe_dst[self.type][2]),self.heading)\n",
    "        vert[3] = cartesian_rotation(Point(safe_dst[self.type][3],safe_dst[self.type][0]),self.heading)\n",
    "        self.vertices = [Point(vert[i].x+self.xy.x,vert[i].y+self.xy.y) for i in range(4)]\n",
    "        pass"
   ]
  },
  {
   "cell_type": "code",
   "execution_count": 10,
   "metadata": {},
   "outputs": [],
   "source": [
    "##  Collision Avoidance function\n",
    "\n",
    "def collision_state(obj_1: moving_object, obj_2: moving_object):\n",
    "\n",
    "    if obj_1.counter == 0 or obj_2.counter == 0:\n",
    "        return \"Impossible to calculate collision time without previous positions\"\n",
    "\n",
    "    ## compute directional lines\n",
    "    r1_l = line_eq_from_points(obj_1.vertices[0], obj_1.vertices[3])\n",
    "    r1_r = line_eq_from_points(obj_1.vertices[1], obj_1.vertices[2])\n",
    "    r2_l = line_eq_from_points(obj_2.vertices[0], obj_2.vertices[3])\n",
    "    r2_r = line_eq_from_points(obj_2.vertices[1], obj_2.vertices[2])\n",
    "\n",
    "    ## compute intersection points (c_xy with x side from obj1 and y side form obj2)\n",
    "    c_ll = intersection_between_lines(r1_l, r2_l)\n",
    "    c_lr = intersection_between_lines(r1_l, r2_r)\n",
    "    c_rl = intersection_between_lines(r1_r, r2_l)\n",
    "    c_rr = intersection_between_lines(r1_r, r2_r)\n",
    "    c_list = [c_ll,c_lr,c_rl,c_rr]\n",
    "    \n",
    "   # collision_heading_1 = math.atan((c_ll.y - obj_1.vertices[0].y)/(c_ll.x - obj_1.vertices[0].x))\n",
    "    if (c_ll.x - obj_1.vertices[0].x) != 0:\n",
    "            collision_heading_1 = math.atan((c_ll.y - obj_1.vertices[0].y)/(c_ll.x - obj_1.vertices[0].x))\n",
    "    elif (c_ll.y - obj_1.vertices[0].y) > 0:\n",
    "        collision_heading_1 = 0\n",
    "    else:\n",
    "        collision_heading_1 = math.pi/2\n",
    "\n",
    "    print(collision_heading_1,obj_1.heading)\n",
    "\n",
    "    #collision_heading_2 = math.acos((c_ll.x - obj_2.vertices[0].x)/c_ll.distance(obj_2.vertices[0]))\n",
    "    if (c_ll.x - obj_2.vertices[0].x) != 0:\n",
    "            collision_heading_2 = math.atan((c_ll.y - obj_2.vertices[0].y)/(c_ll.x - obj_2.vertices[0].x))\n",
    "    elif (c_ll.y - obj_2.vertices[0].y) > 0:\n",
    "        collision_heading_2 = 0\n",
    "    else:\n",
    "        collision_heading_2 = math.pi/2\n",
    "\n",
    "    print(collision_heading_2,obj_2.heading)\n",
    "\n",
    "    if collision_heading_1 != obj_1.heading or collision_heading_2 != obj_2.heading:\n",
    "         print(\"No collision\")\n",
    "\n",
    "    collision_time_table_1 = np.zeros((4,4))\n",
    "    collision_time_table_2 = np.zeros((4,4))\n",
    "\n",
    "    for i in range(4):\n",
    "        for j in range(4):\n",
    "            collision_time_table_1[i,j] = obj_1.vertices[i].distance(c_list[j])/obj_1.speed\n",
    "            collision_time_table_2[i,j] = obj_2.vertices[i].distance(c_list[j])/obj_2.speed\n",
    "\n",
    "    occupation_timedelta_1 = DateTimeRange(collision_time_table_1.min(),collision_time_table_1.max())\n",
    "    occupation_timedelta_2 = DateTimeRange(collision_time_table_2.min(),collision_time_table_2.max())\n",
    "    collision_time = max(collision_time_table_1.min(),collision_time_table_2.min())\n",
    "    if occupation_timedelta_1.is_intersection(occupation_timedelta_2):\n",
    "        print(\"collision in %f seconds\" % collision_time)\n",
    "    \n",
    "    return [c_list, collision_time_table_1, collision_time_table_2,occupation_timedelta_1,occupation_timedelta_2]\n",
    "    "
   ]
  },
  {
   "cell_type": "code",
   "execution_count": 11,
   "metadata": {},
   "outputs": [
    {
     "name": "stdout",
     "output_type": "stream",
     "text": [
      "7.020977089205084\n",
      "1.0071344375610352\n",
      "45.0 -45.0\n"
     ]
    }
   ],
   "source": [
    "object_1 = moving_object(0,0,0,type=\"Tractor\")\n",
    "object_2 = moving_object(0,0,1,type=\"Cow\")\n",
    "time.sleep(0.001)\n",
    "object_2.update_position_local(100,0)\n",
    "time.sleep(1)\n",
    "object_1.update_position_local(5,5)\n",
    "object_2.update_position_local(95,5)\n",
    "print(object_1.speed)\n",
    "print(object_1.timestamp - object_1.prev_timestamp)\n",
    "print((object_1.heading*(180/math.pi)),(object_2.heading*(180/math.pi)))"
   ]
  },
  {
   "cell_type": "code",
   "execution_count": 12,
   "metadata": {},
   "outputs": [],
   "source": [
    "object_1.update_safety_rectangle()\n",
    "object_2.update_safety_rectangle()\n"
   ]
  },
  {
   "cell_type": "code",
   "execution_count": 13,
   "metadata": {},
   "outputs": [
    {
     "name": "stdout",
     "output_type": "stream",
     "text": [
      "0.7853981633974483 0.7853981633974483\n",
      "-0.7853981633974483 -0.7853981633974483\n",
      "collision in 7.601977 seconds\n"
     ]
    }
   ],
   "source": [
    "res = collision_state(object_1,object_2)\n",
    "cl = res[0]\n",
    "ct1 = res[1]\n",
    "ct2 = res[2]\n",
    "otd1 = res[3]\n",
    "otd2 = res[4]"
   ]
  },
  {
   "cell_type": "code",
   "execution_count": 17,
   "metadata": {},
   "outputs": [],
   "source": [
    "\n",
    "g = MultiPoint(object_1.vertices+[object_1.xy]+object_2.vertices+[object_2.xy]+cl)\n"
   ]
  },
  {
   "cell_type": "code",
   "execution_count": 20,
   "metadata": {},
   "outputs": [
    {
     "data": {
      "image/svg+xml": "<svg xmlns=\"http://www.w3.org/2000/svg\" xmlns:xlink=\"http://www.w3.org/1999/xlink\" width=\"112.47350647362941\" height=\"100.0\" viewBox=\"-6.236753236814714 -6.236753236814714 112.47350647362941 67.47350647362943\" preserveAspectRatio=\"xMinYMin meet\"><g transform=\"matrix(1,0,0,-1,0,55.0)\"><g><circle cx=\"-2.0710678118654755\" cy=\"5.0\" r=\"3.0\" stroke=\"#555555\" stroke-width=\"1.0\" fill=\"#66cc99\" opacity=\"0.6\" /><circle cx=\"5.0\" cy=\"-2.0710678118654755\" r=\"3.0\" stroke=\"#555555\" stroke-width=\"1.0\" fill=\"#66cc99\" opacity=\"0.6\" /><circle cx=\"22.67766952966369\" cy=\"15.606601717798213\" r=\"3.0\" stroke=\"#555555\" stroke-width=\"1.0\" fill=\"#66cc99\" opacity=\"0.6\" /><circle cx=\"15.606601717798213\" cy=\"22.67766952966369\" r=\"3.0\" stroke=\"#555555\" stroke-width=\"1.0\" fill=\"#66cc99\" opacity=\"0.6\" /><circle cx=\"5.0\" cy=\"5.0\" r=\"3.0\" stroke=\"#555555\" stroke-width=\"1.0\" fill=\"#66cc99\" opacity=\"0.6\" /><circle cx=\"95.0\" cy=\"12.071067811865476\" r=\"3.0\" stroke=\"#555555\" stroke-width=\"1.0\" fill=\"#66cc99\" opacity=\"0.6\" /><circle cx=\"87.92893218813452\" cy=\"5.0\" r=\"3.0\" stroke=\"#555555\" stroke-width=\"1.0\" fill=\"#66cc99\" opacity=\"0.6\" /><circle cx=\"95.0\" cy=\"-2.0710678118654755\" r=\"3.0\" stroke=\"#555555\" stroke-width=\"1.0\" fill=\"#66cc99\" opacity=\"0.6\" /><circle cx=\"102.07106781186548\" cy=\"5.0\" r=\"3.0\" stroke=\"#555555\" stroke-width=\"1.0\" fill=\"#66cc99\" opacity=\"0.6\" /><circle cx=\"95.0\" cy=\"5.0\" r=\"3.0\" stroke=\"#555555\" stroke-width=\"1.0\" fill=\"#66cc99\" opacity=\"0.6\" /><circle cx=\"50.0\" cy=\"57.071067811865476\" r=\"3.0\" stroke=\"#555555\" stroke-width=\"1.0\" fill=\"#66cc99\" opacity=\"0.6\" /><circle cx=\"42.928932188134524\" cy=\"50.0\" r=\"3.0\" stroke=\"#555555\" stroke-width=\"1.0\" fill=\"#66cc99\" opacity=\"0.6\" /><circle cx=\"57.071067811865476\" cy=\"50.0\" r=\"3.0\" stroke=\"#555555\" stroke-width=\"1.0\" fill=\"#66cc99\" opacity=\"0.6\" /><circle cx=\"50.0\" cy=\"42.928932188134524\" r=\"3.0\" stroke=\"#555555\" stroke-width=\"1.0\" fill=\"#66cc99\" opacity=\"0.6\" /></g></g></svg>",
      "text/plain": [
       "<shapely.geometry.multipoint.MultiPoint at 0x1b57b6eecd0>"
      ]
     },
     "metadata": {},
     "output_type": "display_data"
    }
   ],
   "source": [
    "display(g)"
   ]
  },
  {
   "cell_type": "code",
   "execution_count": null,
   "metadata": {},
   "outputs": [],
   "source": []
  }
 ],
 "metadata": {
  "interpreter": {
   "hash": "b89b5cfaba6639976dc87ff2fec6d58faec662063367e2c229c520fe71072417"
  },
  "kernelspec": {
   "display_name": "Python 3.10.2 64-bit",
   "language": "python",
   "name": "python3"
  },
  "language_info": {
   "codemirror_mode": {
    "name": "ipython",
    "version": 3
   },
   "file_extension": ".py",
   "mimetype": "text/x-python",
   "name": "python",
   "nbconvert_exporter": "python",
   "pygments_lexer": "ipython3",
   "version": "3.9.11"
  },
  "orig_nbformat": 4
 },
 "nbformat": 4,
 "nbformat_minor": 2
}
