{
 "cells": [
  {
   "cell_type": "code",
   "execution_count": 5,
   "metadata": {},
   "outputs": [],
   "source": [
    "import numpy as np\n",
    "import math\n",
    "from shapely.geometry import Point,Polygon\n",
    "import matplotlib.pyplot as plt\n",
    "from ca_utils import *"
   ]
  },
  {
   "cell_type": "code",
   "execution_count": 6,
   "metadata": {},
   "outputs": [],
   "source": [
    "def normalize(vector):      # return: The vector scaled to a length of 1\n",
    "    norm = math.sqrt(vector[0] ** 2 + vector[1] ** 2)\n",
    "    return vector[0] / norm, vector[1] / norm\n",
    "\n",
    "def dot(vector1, vector2):  # return: The dot (or scalar) product of the two vectors\n",
    "    return vector1[0] * vector2[0] + vector1[1] * vector2[1]\n",
    "\n",
    "def edge_direction(point0: Point, point1: Point):   # return: A vector going from point0 to point1\n",
    "    return point1.x - point0.x, point1.y - point0.y\n",
    "\n",
    "def orthogonal(vector):     # return: A new vector which is orthogonal to the given vector\n",
    "    return vector[1], -vector[0]\n",
    "\n",
    "def vertices_to_edges(vertices):    # return: A list of the edges of the vertices as vectors\n",
    "    return [edge_direction(vertices[i], vertices[(i + 1) % len(vertices)])for i in range(len(vertices))]\n",
    "\n",
    "def project(vertices, axis):    # return: A vector showing how much of the vertices lies along the axis\n",
    "    dots = [dot(vertex, axis) for vertex in vertices]\n",
    "    return [min(dots), max(dots)]\n",
    "\n",
    "def interval_intersection(intervals: list):\n",
    "    p = [-float(\"inf\"),float(\"inf\")]\n",
    "    for i in range(len(intervals)):\n",
    "        if (min(intervals[i][1],p[1]) - max(intervals[i][0],p[0])) > 0:\n",
    "            p = [max(intervals[i][0],p[0]),min(intervals[i][1],p[1])]\n",
    "        else:\n",
    "            return [-float(\"inf\"),float(\"inf\")]\n",
    "    return p\n",
    "    \n",
    "def local_overlapping_interval(p1:list, p2: list, pv1: float, pv2:float):\n",
    "    if (pv1 - pv2) != 0:\n",
    "        s0x = [((p2[0]-p1[0])/(pv1-pv2)),((p2[1]-p1[0])/(pv1-pv2))]\n",
    "        s1x = [((p1[0]-p2[0])/(pv2-pv1)),((p1[1]-p2[0])/(pv2-pv1))]\n",
    "        return [min(s0x+s1x),max(s0x+s1x)]\n",
    "    else:\n",
    "        return [-float(\"inf\"),float(\"inf\")]\n",
    "\n",
    "def separating_axis_theorem(obj_a: moving_object, obj_b: moving_object):\n",
    "    vertices_a = obj_a.vertices\n",
    "    vertices_b = obj_b.vertices\n",
    "\n",
    "    va_x = round(obj_a.speed*math.sin(obj_a.heading),5)\n",
    "    va_y = round(obj_a.speed*math.cos(obj_a.heading),5)\n",
    "\n",
    "    vb_x = round(obj_b.speed*math.sin(obj_b.heading),5)\n",
    "    vb_y = round(obj_b.speed*math.cos(obj_b.heading),5)\n",
    "\n",
    "    edges = vertices_to_edges(vertices_a) + vertices_to_edges(vertices_b)\n",
    "    axes = [normalize(orthogonal(edge)) for edge in edges]\n",
    "\n",
    "    overlapping_intervals = []\n",
    "\n",
    "    for axis in axes:\n",
    "        projection_a = project(vertices_a, axis)\n",
    "        projection_b = project(vertices_b, axis)\n",
    "        speed_projection_a = dot([va_x,va_y],axis)\n",
    "        speed_projection_b = dot([vb_x,vb_y],axis)\n",
    "        loi = local_overlapping_interval(projection_a,projection_b,speed_projection_a,speed_projection_b)\n",
    "        overlapping_intervals.append(loi)\n",
    "\n",
    "    collision_interval = interval_intersection(overlapping_intervals)\n",
    "\n",
    "    return collision_interval"
   ]
  },
  {
   "cell_type": "code",
   "execution_count": 10,
   "metadata": {},
   "outputs": [
    {
     "data": {
      "text/plain": [
       "[-inf, inf]"
      ]
     },
     "execution_count": 10,
     "metadata": {},
     "output_type": "execute_result"
    }
   ],
   "source": []
  },
  {
   "cell_type": "code",
   "execution_count": null,
   "metadata": {},
   "outputs": [],
   "source": []
  }
 ],
 "metadata": {
  "interpreter": {
   "hash": "46380d7de5feeddbc3ced10091721769b03107ebedd21dc844cf7da22fe6e23f"
  },
  "kernelspec": {
   "display_name": "Python 3.10.4",
   "language": "python",
   "name": "python3"
  },
  "language_info": {
   "codemirror_mode": {
    "name": "ipython",
    "version": 3
   },
   "file_extension": ".py",
   "mimetype": "text/x-python",
   "name": "python",
   "nbconvert_exporter": "python",
   "pygments_lexer": "ipython3",
   "version": "3.10.4"
  },
  "orig_nbformat": 4
 },
 "nbformat": 4,
 "nbformat_minor": 2
}
