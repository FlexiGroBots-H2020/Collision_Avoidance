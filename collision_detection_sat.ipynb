{
 "cells": [
  {
   "cell_type": "code",
   "execution_count": 1,
   "metadata": {},
   "outputs": [],
   "source": [
    "from ca_utils import *\n",
    "from shapely.geometry import Point, Polygon, MultiPoint\n",
    "import matplotlib.pyplot as plt\n",
    "from matplotlib.animation import FuncAnimation\n",
    "plt.style.use('default')\n",
    "import time"
   ]
  },
  {
   "cell_type": "code",
   "execution_count": 2,
   "metadata": {},
   "outputs": [],
   "source": [
    "steps = 10\n",
    "steps_per_round = 50\n",
    "radius = 30\n",
    "m = 1\n",
    "obj1_pos_series_x = [radius*math.sin(t*2*math.pi/steps_per_round) for t in range(steps)]\n",
    "obj1_pos_series_y = [radius*math.cos(t*2*math.pi/steps_per_round) for t in range(steps)]\n",
    "obj2_pos_series_x = [m*t for t in range(steps)]\n",
    "obj2_pos_series_y = [m*t for t in range(steps)]\n"
   ]
  },
  {
   "cell_type": "code",
   "execution_count": 3,
   "metadata": {},
   "outputs": [],
   "source": [
    "object_1 = moving_object(0,0,0,type=\"Tractor\",rel_x_start=0,rel_y_start=0,external_timestamp=0)\n",
    "object_2 = moving_object(0,0,1,type=\"Cow\",rel_x_start=45,rel_y_start=0,external_timestamp=0)"
   ]
  },
  {
   "cell_type": "code",
   "execution_count": 4,
   "metadata": {},
   "outputs": [
    {
     "name": "stdout",
     "output_type": "stream",
     "text": [
      "[inf, inf]\n",
      "[inf, inf]\n",
      "[inf, inf]\n",
      "[inf, inf]\n",
      "[0.8365346419743054, 1.3581012296095176]\n",
      "[-0.9072589460020902, 0.6136242671754695]\n",
      "[-2.2940378362392124, -0.22369444066972263]\n",
      "[-3.456828850952252, -1.2519163033462728]\n",
      "[-4.475268807549778, -2.696517505893971]\n",
      "[-5.40113195758135, -5.255950515218001]\n"
     ]
    }
   ],
   "source": [
    "for i in range(steps):\n",
    "    object_1.update_position_local(obj1_pos_series_x[i],obj1_pos_series_y[i],external_timestamp=i+1)\n",
    "    object_2.update_position_local(obj2_pos_series_x[i],obj2_pos_series_y[i],external_timestamp=i+1)\n",
    "    object_1.update_safety_rectangle()\n",
    "    object_1.update_direction_lines()\n",
    "    object_2.update_safety_rectangle()\n",
    "    object_2.update_direction_lines()\n",
    "    print(collision_sat(object_1, object_2))\n",
    "    time.sleep(1)\n",
    "    "
   ]
  },
  {
   "cell_type": "code",
   "execution_count": null,
   "metadata": {},
   "outputs": [],
   "source": []
  }
 ],
 "metadata": {
  "interpreter": {
   "hash": "46380d7de5feeddbc3ced10091721769b03107ebedd21dc844cf7da22fe6e23f"
  },
  "kernelspec": {
   "display_name": "Python 3.10.4",
   "language": "python",
   "name": "python3"
  },
  "language_info": {
   "codemirror_mode": {
    "name": "ipython",
    "version": 3
   },
   "file_extension": ".py",
   "mimetype": "text/x-python",
   "name": "python",
   "nbconvert_exporter": "python",
   "pygments_lexer": "ipython3",
   "version": "3.10.4"
  },
  "orig_nbformat": 4
 },
 "nbformat": 4,
 "nbformat_minor": 2
}
