{
 "cells": [
  {
   "cell_type": "code",
   "execution_count": 7,
   "metadata": {},
   "outputs": [],
   "source": [
    "from ca_utils import *\n",
    "from shapely.geometry import Point, Polygon, MultiPoint\n",
    "import matplotlib.pyplot as plt\n",
    "from matplotlib.animation import FuncAnimation\n",
    "plt.style.use('default')\n",
    "import time"
   ]
  },
  {
   "cell_type": "code",
   "execution_count": 8,
   "metadata": {},
   "outputs": [],
   "source": [
    "steps = 100\n",
    "steps_per_round = 50\n",
    "radius = 30\n",
    "m = 1\n",
    "obj1_pos_series_x = [radius*math.sin(t*2*math.pi/steps_per_round) for t in range(steps)]\n",
    "obj1_pos_series_y = [radius*math.cos(t*2*math.pi/steps_per_round) for t in range(steps)]\n",
    "obj2_pos_series_x = [m*t for t in range(steps)]\n",
    "obj2_pos_series_y = [m*t for t in range(steps)]\n"
   ]
  }
 ],
 "metadata": {
  "interpreter": {
   "hash": "46380d7de5feeddbc3ced10091721769b03107ebedd21dc844cf7da22fe6e23f"
  },
  "kernelspec": {
   "display_name": "Python 3.10.4",
   "language": "python",
   "name": "python3"
  },
  "language_info": {
   "codemirror_mode": {
    "name": "ipython",
    "version": 3
   },
   "file_extension": ".py",
   "mimetype": "text/x-python",
   "name": "python",
   "nbconvert_exporter": "python",
   "pygments_lexer": "ipython3",
   "version": "3.10.4"
  },
  "orig_nbformat": 4
 },
 "nbformat": 4,
 "nbformat_minor": 2
}
