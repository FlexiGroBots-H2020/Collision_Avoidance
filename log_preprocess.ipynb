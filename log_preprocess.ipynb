{
 "cells": [
  {
   "cell_type": "code",
   "execution_count": 41,
   "metadata": {},
   "outputs": [],
   "source": [
    "import pandas as pd\n",
    "from ca_utils import *\n",
    "from datetime import datetime"
   ]
  },
  {
   "cell_type": "code",
   "execution_count": 84,
   "metadata": {},
   "outputs": [],
   "source": [
    "df = pd.read_csv(\"log.csv\", skip_blank_lines = True)\n",
    "df = df.iloc[:,[0, 2, 4, 6,8, 10]]\n",
    "df.columns = [\"dev_n\", \"lat\",\"lon\",\"ele\",\"hdg\",\"ts\"]\n",
    "df.index = pd.to_datetime(df[\"ts\"], unit=\"s\")\n",
    "df.index.name = None\n",
    "df = df.drop(\"ts\",axis=1)\n",
    "df[\"dev_n\"] = [int(df[\"dev_n\"][i].split(\"/\")[2]) for i in range(len(df[\"dev_n\"]))]\n",
    "df[\"ct12_l\"] = [float(\"nan\") for _ in range(len(df))]\n",
    "df[\"ct12_h\"] = [float(\"nan\") for _ in range(len(df))]\n",
    "df[\"coll12\"] = [False for _ in range(len(df))]"
   ]
  },
  {
   "cell_type": "code",
   "execution_count": 85,
   "metadata": {},
   "outputs": [
    {
     "data": {
      "text/html": [
       "<div>\n",
       "<style scoped>\n",
       "    .dataframe tbody tr th:only-of-type {\n",
       "        vertical-align: middle;\n",
       "    }\n",
       "\n",
       "    .dataframe tbody tr th {\n",
       "        vertical-align: top;\n",
       "    }\n",
       "\n",
       "    .dataframe thead th {\n",
       "        text-align: right;\n",
       "    }\n",
       "</style>\n",
       "<table border=\"1\" class=\"dataframe\">\n",
       "  <thead>\n",
       "    <tr style=\"text-align: right;\">\n",
       "      <th></th>\n",
       "      <th>dev_n</th>\n",
       "      <th>lat</th>\n",
       "      <th>lon</th>\n",
       "      <th>ele</th>\n",
       "      <th>hdg</th>\n",
       "      <th>ct12_l</th>\n",
       "      <th>ct12_h</th>\n",
       "      <th>coll12</th>\n",
       "    </tr>\n",
       "  </thead>\n",
       "  <tbody>\n",
       "    <tr>\n",
       "      <th>2022-05-27 06:38:25.149891328</th>\n",
       "      <td>1</td>\n",
       "      <td>65.056706</td>\n",
       "      <td>25.458620</td>\n",
       "      <td>49.616</td>\n",
       "      <td>307.42</td>\n",
       "      <td>NaN</td>\n",
       "      <td>NaN</td>\n",
       "      <td>False</td>\n",
       "    </tr>\n",
       "    <tr>\n",
       "      <th>2022-05-27 06:38:25.399275264</th>\n",
       "      <td>2</td>\n",
       "      <td>65.057135</td>\n",
       "      <td>25.457287</td>\n",
       "      <td>49.723</td>\n",
       "      <td>306.87</td>\n",
       "      <td>NaN</td>\n",
       "      <td>NaN</td>\n",
       "      <td>False</td>\n",
       "    </tr>\n",
       "    <tr>\n",
       "      <th>2022-05-27 06:38:25.991138816</th>\n",
       "      <td>2</td>\n",
       "      <td>65.057148</td>\n",
       "      <td>25.457245</td>\n",
       "      <td>49.725</td>\n",
       "      <td>306.87</td>\n",
       "      <td>NaN</td>\n",
       "      <td>NaN</td>\n",
       "      <td>False</td>\n",
       "    </tr>\n",
       "    <tr>\n",
       "      <th>2022-05-27 06:38:26.282638336</th>\n",
       "      <td>1</td>\n",
       "      <td>65.056738</td>\n",
       "      <td>25.458525</td>\n",
       "      <td>49.573</td>\n",
       "      <td>306.93</td>\n",
       "      <td>NaN</td>\n",
       "      <td>NaN</td>\n",
       "      <td>False</td>\n",
       "    </tr>\n",
       "    <tr>\n",
       "      <th>2022-05-27 06:38:26.593022208</th>\n",
       "      <td>2</td>\n",
       "      <td>65.057161</td>\n",
       "      <td>25.457202</td>\n",
       "      <td>49.726</td>\n",
       "      <td>306.87</td>\n",
       "      <td>NaN</td>\n",
       "      <td>NaN</td>\n",
       "      <td>False</td>\n",
       "    </tr>\n",
       "  </tbody>\n",
       "</table>\n",
       "</div>"
      ],
      "text/plain": [
       "                               dev_n        lat        lon     ele     hdg  \\\n",
       "2022-05-27 06:38:25.149891328      1  65.056706  25.458620  49.616  307.42   \n",
       "2022-05-27 06:38:25.399275264      2  65.057135  25.457287  49.723  306.87   \n",
       "2022-05-27 06:38:25.991138816      2  65.057148  25.457245  49.725  306.87   \n",
       "2022-05-27 06:38:26.282638336      1  65.056738  25.458525  49.573  306.93   \n",
       "2022-05-27 06:38:26.593022208      2  65.057161  25.457202  49.726  306.87   \n",
       "\n",
       "                               ct12_l  ct12_h  coll12  \n",
       "2022-05-27 06:38:25.149891328     NaN     NaN   False  \n",
       "2022-05-27 06:38:25.399275264     NaN     NaN   False  \n",
       "2022-05-27 06:38:25.991138816     NaN     NaN   False  \n",
       "2022-05-27 06:38:26.282638336     NaN     NaN   False  \n",
       "2022-05-27 06:38:26.593022208     NaN     NaN   False  "
      ]
     },
     "execution_count": 85,
     "metadata": {},
     "output_type": "execute_result"
    }
   ],
   "source": [
    "df.head()"
   ]
  },
  {
   "cell_type": "code",
   "execution_count": 86,
   "metadata": {},
   "outputs": [],
   "source": [
    "obj_dict = dict[int, moving_object]({0:moving_object(0, 0, 0, \"Cow\")})"
   ]
  },
  {
   "cell_type": "code",
   "execution_count": 87,
   "metadata": {},
   "outputs": [],
   "source": [
    "for i in range(len(df)):\n",
    "    row = df.iloc[i]\n",
    "    if row.dev_n not in obj_dict:\n",
    "        obj_dict[row.dev_n] = moving_object(row.lat, row.lon, row.dev_n, \"Tractor\", external_timestamp=row.name.timestamp())\n",
    "    else:\n",
    "        obj_dict[row.dev_n].update_position(row.lat, row.lon, row.hdg,external_timestamp=row.name.timestamp())\n",
    "\n",
    "    if 1 in obj_dict and 2 in obj_dict:\n",
    "        [df.iat[i,df.columns.get_loc(\"ct12_l\")],df.iat[i,df.columns.get_loc(\"ct12_h\")]] = moving_separating_axis_theorem(obj_dict[1], obj_dict[2])\n",
    "        df.iat[i,df.columns.get_loc(\"coll12\")] = separating_axis_theorem(obj_dict[1], obj_dict[2])\n",
    "\n"
   ]
  },
  {
   "cell_type": "code",
   "execution_count": 98,
   "metadata": {},
   "outputs": [
    {
     "data": {
      "text/plain": [
       "<AxesSubplot:>"
      ]
     },
     "execution_count": 98,
     "metadata": {},
     "output_type": "execute_result"
    },
    {
     "data": {
      "image/png": "[encoded data removed]",
      "text/plain": [
       "<Figure size 1440x504 with 1 Axes>"
      ]
     },
     "metadata": {
      "needs_background": "light"
     },
     "output_type": "display_data"
    }
   ],
   "source": [
    "fig, ax = plt.subplots(figsize = (20,7))\n",
    "(df[\"coll12\"].astype(\"int\")*500).plot()\n",
    "df[\"ct12_l\"].plot() #[df[\"ct12_l\"].values > -250]"
   ]
  },
  {
   "cell_type": "code",
   "execution_count": 83,
   "metadata": {},
   "outputs": [
    {
     "data": {
      "text/plain": [
       "nan"
      ]
     },
     "execution_count": 83,
     "metadata": {},
     "output_type": "execute_result"
    }
   ],
   "source": [
    "for j in range(len(a)):\n",
    "    a.iat[j,0] = []"
   ]
  },
  {
   "cell_type": "code",
   "execution_count": null,
   "metadata": {},
   "outputs": [],
   "source": []
  }
 ],
 "metadata": {
  "interpreter": {
   "hash": "ac59ebe37160ed0dfa835113d9b8498d9f09ceb179beaac4002f036b9467c963"
  },
  "kernelspec": {
   "display_name": "Python 3.9.11 64-bit",
   "language": "python",
   "name": "python3"
  },
  "language_info": {
   "codemirror_mode": {
    "name": "ipython",
    "version": 3
   },
   "file_extension": ".py",
   "mimetype": "text/x-python",
   "name": "python",
   "nbconvert_exporter": "python",
   "pygments_lexer": "ipython3",
   "version": "3.9.11"
  },
  "orig_nbformat": 4
 },
 "nbformat": 4,
 "nbformat_minor": 2
}
