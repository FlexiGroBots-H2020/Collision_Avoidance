{
 "cells": [
  {
   "cell_type": "code",
   "execution_count": 13,
   "metadata": {},
   "outputs": [],
   "source": [
    "from ca_utils import *\n",
    "from shapely.geometry import Point, Polygon, MultiPoint\n",
    "import matplotlib.pyplot as plt\n",
    "plt.style.use('default')"
   ]
  },
  {
   "cell_type": "code",
   "execution_count": 8,
   "metadata": {},
   "outputs": [
    {
     "name": "stdout",
     "output_type": "stream",
     "text": [
      "90.0 90.0\n"
     ]
    }
   ],
   "source": [
    "object_1 = moving_object(0,0,0,type=\"Tractor\",rel_x_start=0,rel_y_start=0)\n",
    "object_2 = moving_object(0,0,1,type=\"Cow\",rel_x_start=25,rel_y_start=0)\n",
    "time.sleep(1)\n",
    "object_1.update_position_local(10,0)\n",
    "object_2.update_position_local(50,0)\n",
    "print((object_1.heading*(180/math.pi)),(object_2.heading*(180/math.pi)))"
   ]
  },
  {
   "cell_type": "code",
   "execution_count": 9,
   "metadata": {},
   "outputs": [
    {
     "name": "stdout",
     "output_type": "stream",
     "text": [
      "CPU times: total: 0 ns\n",
      "Wall time: 3.99 ms\n"
     ]
    }
   ],
   "source": [
    "%%time\n",
    "object_1.update_safety_rectangle()\n",
    "object_2.update_safety_rectangle()\n",
    "object_1.update_direction_lines()\n",
    "object_2.update_direction_lines()"
   ]
  },
  {
   "cell_type": "code",
   "execution_count": 14,
   "metadata": {},
   "outputs": [
    {
     "name": "stdout",
     "output_type": "stream",
     "text": [
      "CPU times: total: 15.6 ms\n",
      "Wall time: 21 ms\n"
     ]
    },
    {
     "data": {
      "text/plain": [
       "[<matplotlib.lines.Line2D at 0x20845c8a200>]"
      ]
     },
     "execution_count": 14,
     "metadata": {},
     "output_type": "execute_result"
    },
    {
     "data": {
      "image/png": "[encoded data removed]",
      "text/plain": [
       "<Figure size 640x480 with 1 Axes>"
      ]
     },
     "metadata": {},
     "output_type": "display_data"
    }
   ],
   "source": [
    "%%time\n",
    "## things to plot\n",
    "# object 1 safety rect + center point\n",
    "# object 2 safety rect + center point\n",
    "# collision area\n",
    "plt.axis('equal')\n",
    "polygon1 = Polygon(object_1.vertices)\n",
    "x1,y1 = polygon1.exterior.xy\n",
    "\n",
    "polygon2 = Polygon(object_2.vertices)\n",
    "x2,y2 = polygon2.exterior.xy\n",
    "\n",
    "if object_2.r_l.m == float('inf'):\n",
    "    plt.axvline(x = object_2.r_l.q, color=\"blue\", linestyle=\"--\")\n",
    "else:\n",
    "    plt.axline((0,object_2.r_l.q),slope=object_2.r_l.m,color=\"blue\", linestyle=\"--\")\n",
    "\n",
    "if object_2.r_r.m == float('inf'):\n",
    "    plt.axvline(x = object_2.r_r.q, color=\"blue\", linestyle=\"--\")\n",
    "else:\n",
    "    plt.axline((0,object_2.r_r.q),slope=object_2.r_r.m,color=\"blue\", linestyle=\"--\")\n",
    "\n",
    "if object_1.r_l.m == float('inf'):\n",
    "    plt.axvline(x = object_1.r_l.q, color=\"red\", linestyle=\"--\")\n",
    "else:\n",
    "    plt.axline((0,object_1.r_l.q),slope=object_1.r_l.m,color=\"red\", linestyle=\"--\")\n",
    "\n",
    "if object_1.r_r.m == float('inf'):\n",
    "    plt.axvline(x = object_1.r_r.q, color=\"red\", linestyle=\"--\")\n",
    "else:\n",
    "    plt.axline((0,object_1.r_r.q),slope=object_1.r_r.m,color=\"red\", linestyle=\"--\")\n",
    "\n",
    "plt.arrow(object_1.xy_prev.x,object_1.xy_prev.y,(object_1.xy.x-object_1.xy_prev.x),(object_1.xy.y-object_1.xy_prev.y),length_includes_head=True,head_width=2, head_length=2)\n",
    "plt.arrow(object_2.xy_prev.x,object_2.xy_prev.y,(object_2.xy.x-object_2.xy_prev.x),(object_2.xy.y-object_2.xy_prev.y),length_includes_head=True,head_width=2, head_length=2)\n",
    "\n",
    "plt.plot(x1,y1, c=\"red\")\n",
    "plt.plot(x2,y2,c=\"blue\")"
   ]
  },
  {
   "cell_type": "code",
   "execution_count": 11,
   "metadata": {},
   "outputs": [
    {
     "name": "stdout",
     "output_type": "stream",
     "text": [
      "speed components\n",
      "9.970378663890186 6.10509615851009e-16\n",
      "24.925946659725465 1.5262740396275225e-15\n",
      "crossing intervals\n",
      "[-3.3432364463806152, -1.0029709339141846]\n",
      "[-inf, inf]\n",
      "CPU times: total: 0 ns\n",
      "Wall time: 1.98 ms\n"
     ]
    },
    {
     "data": {
      "text/plain": [
       "[-3.3432364463806152, -1.0029709339141846]"
      ]
     },
     "execution_count": 11,
     "metadata": {},
     "output_type": "execute_result"
    }
   ],
   "source": [
    "%%time\n",
    "collision_sat(object_1,object_2)"
   ]
  },
  {
   "cell_type": "code",
   "execution_count": 6,
   "metadata": {},
   "outputs": [
    {
     "data": {
      "text/plain": [
       "9.833114093132112"
      ]
     },
     "execution_count": 6,
     "metadata": {},
     "output_type": "execute_result"
    }
   ],
   "source": [
    "object_1.speed"
   ]
  },
  {
   "cell_type": "code",
   "execution_count": 7,
   "metadata": {},
   "outputs": [
    {
     "data": {
      "text/plain": [
       "4.9213867213854545"
      ]
     },
     "execution_count": 7,
     "metadata": {},
     "output_type": "execute_result"
    }
   ],
   "source": [
    "object_2.speed"
   ]
  },
  {
   "cell_type": "code",
   "execution_count": null,
   "metadata": {},
   "outputs": [],
   "source": []
  }
 ],
 "metadata": {
  "interpreter": {
   "hash": "46380d7de5feeddbc3ced10091721769b03107ebedd21dc844cf7da22fe6e23f"
  },
  "kernelspec": {
   "display_name": "Python 3.10.4",
   "language": "python",
   "name": "python3"
  },
  "language_info": {
   "codemirror_mode": {
    "name": "ipython",
    "version": 3
   },
   "file_extension": ".py",
   "mimetype": "text/x-python",
   "name": "python",
   "nbconvert_exporter": "python",
   "pygments_lexer": "ipython3",
   "version": "3.10.4"
  },
  "orig_nbformat": 4
 },
 "nbformat": 4,
 "nbformat_minor": 2
}
